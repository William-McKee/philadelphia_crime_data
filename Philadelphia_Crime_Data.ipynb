{
 "cells": [
  {
   "cell_type": "markdown",
   "metadata": {},
   "source": [
    "# Philadelphia Crime Data Project\n",
    "#### William McKee\n",
    "#### September 2017\n",
    "\n",
    "In this investigation, I am analyzing Philadelphia Crime Statistics from 2006 through 2015.  The data set is available on Kaggle.  I would like to know the following about crime in my home city:\n",
    "\n",
    "(1) What parts of the city have the most crime?\n",
    "\n",
    "(2) What crimes are most frequently committed?\n",
    "\n",
    "(3) Has crime improved over time?\n",
    "\n",
    "I will look at combinations to see how crime varies geographically in Philadelphia?  Perhaps thefts and murders are committed more frequently in different parts of the city."
   ]
  },
  {
   "cell_type": "markdown",
   "metadata": {},
   "source": [
    "## Data Set Basic Statistics\n",
    "\n",
    "The investigation begins by gathering basic data about Philadelphia crime statistics.  How many entries are in the data set?  What are the fields and ranges of each field?  What is the format of each field?  Is the formatting consistent?  What cleaning has to be performed on the data set?"
   ]
  },
  {
   "cell_type": "code",
   "execution_count": 16,
   "metadata": {},
   "outputs": [
    {
     "name": "stdout",
     "output_type": "stream",
     "text": [
      "Data dimensions: \n",
      "(2237605, 14)\n"
     ]
    }
   ],
   "source": [
    "# Initial library declarations\n",
    "import matplotlib.pyplot as plt\n",
    "import numpy as np\n",
    "import pandas as pd\n",
    "import seaborn as sns\n",
    "\n",
    "# Store Philadelphia's crime data\n",
    "crime_data = pd.read_csv('crime.csv')\n",
    "\n",
    "# Check out the contents\n",
    "print(\"Data dimensions: \")\n",
    "print(crime_data.shape)"
   ]
  },
  {
   "cell_type": "code",
   "execution_count": 17,
   "metadata": {},
   "outputs": [
    {
     "name": "stdout",
     "output_type": "stream",
     "text": [
      "Column values:\n",
      "['Dc_Dist' 'Psa' 'Dispatch_Date_Time' 'Dispatch_Date' 'Dispatch_Time'\n",
      " 'Hour' 'Dc_Key' 'Location_Block' 'UCR_General' 'Text_General_Code'\n",
      " 'Police_Districts' 'Month' 'Lon' 'Lat']\n",
      "\n",
      "\n",
      "Column max:\n",
      "Dc_Dist                                92\n",
      "Psa                                     Z\n",
      "Dispatch_Date_Time    2017-03-23 01:29:00\n",
      "Dispatch_Date                  2017-03-23\n",
      "Dispatch_Time                    23:59:00\n",
      "Hour                                   23\n",
      "Dc_Key                       201777001445\n",
      "Location_Block              `732 SIGEL ST\n",
      "UCR_General                          2600\n",
      "Police_Districts                       22\n",
      "Month                             2017-03\n",
      "Lon                              -74.9575\n",
      "Lat                               40.1379\n",
      "dtype: object\n",
      "\n",
      "\n",
      "Column min:\n",
      "Dc_Dist                                       1\n",
      "Psa                                           1\n",
      "Dispatch_Date_Time          2006-01-01 00:00:00\n",
      "Dispatch_Date                        2006-01-01\n",
      "Dispatch_Time                          00:00:00\n",
      "Hour                                          0\n",
      "Dc_Key                             199812085407\n",
      "Location_Block        \"A\" ST  & WESTMORELAND ST\n",
      "UCR_General                                 100\n",
      "Police_Districts                              1\n",
      "Month                                   2006-01\n",
      "Lon                                    -75.2777\n",
      "Lat                                       39.87\n",
      "dtype: object\n"
     ]
    }
   ],
   "source": [
    "# Explore column names, max values, and min values\n",
    "print(\"Column values:\")\n",
    "print(crime_data.columns.values)\n",
    "print(\"\\n\")\n",
    "\n",
    "print(\"Column max:\")\n",
    "print(crime_data.max())\n",
    "print(\"\\n\")\n",
    "\n",
    "print(\"Column min:\")\n",
    "print(crime_data.min())"
   ]
  },
  {
   "cell_type": "code",
   "execution_count": 18,
   "metadata": {},
   "outputs": [
    {
     "name": "stdout",
     "output_type": "stream",
     "text": [
      "Dc_Dist\n",
      "1      48815\n",
      "2     116500\n",
      "3      85816\n",
      "4      29198\n",
      "5      31433\n",
      "6      96568\n",
      "7      44687\n",
      "8      73820\n",
      "9      84046\n",
      "12    132145\n",
      "14    120931\n",
      "15    184677\n",
      "16     73052\n",
      "17     74900\n",
      "18    109746\n",
      "19    138987\n",
      "22    127332\n",
      "23     27278\n",
      "24    161909\n",
      "25    151245\n",
      "26     86982\n",
      "35    131037\n",
      "39     97061\n",
      "77      7813\n",
      "92      1627\n",
      "Name: Dc_Dist, dtype: int64\n",
      "\n",
      "\n",
      "UCR_General  Text_General_Code                      \n",
      "100.0        Homicide - Criminal                          3442\n",
      "             Homicide - Gross Negligence                    12\n",
      "             Homicide - Justifiable                         42\n",
      "200.0        Rape                                        11852\n",
      "300.0        Robbery Firearm                             40577\n",
      "             Robbery No Firearm                          51919\n",
      "400.0        Aggravated Assault Firearm                  27934\n",
      "             Aggravated Assault No Firearm               68989\n",
      "500.0        Burglary Non-Residential                    23276\n",
      "             Burglary Residential                        94143\n",
      "600.0        Theft from Vehicle                         171135\n",
      "             Thefts                                     257923\n",
      "700.0        Motor Vehicle Theft                         46517\n",
      "             Recovered Stolen Motor Vehicle              95282\n",
      "800.0        Other Assaults                             277332\n",
      "900.0        Arson                                        5684\n",
      "1000.0       Forgery and Counterfeiting                   4843\n",
      "1100.0       Fraud                                      114416\n",
      "1200.0       Embezzlement                                 4807\n",
      "1300.0       Receiving Stolen Property                     786\n",
      "1400.0       Vandalism/Criminal Mischief                200345\n",
      "1500.0       Weapon Violations                           19092\n",
      "1600.0       Prostitution and Commercialized Vice        12854\n",
      "1700.0       Other Sex Offenses (Not Commercialized)     15304\n",
      "1800.0       Narcotic / Drug Law Violations             137448\n",
      "1900.0       Gambling Violations                           921\n",
      "2000.0       Offenses Against Family and Children         1794\n",
      "2100.0       DRIVING UNDER THE INFLUENCE                 53721\n",
      "2200.0       Liquor Law Violations                        5439\n",
      "2300.0       Public Drunkenness                           4619\n",
      "2400.0       Disorderly Conduct                          40137\n",
      "2500.0       Vagrancy/Loitering                           6776\n",
      "2600.0       All Other Offenses                         437581\n",
      "dtype: int64\n"
     ]
    }
   ],
   "source": [
    "# Look at some distinct data (TODO: Pretty print)\n",
    "dc_dist_distinct = crime_data.groupby('Dc_Dist')['Dc_Dist'].count()\n",
    "print(dc_dist_distinct)\n",
    "print(\"\\n\")\n",
    "\n",
    "ucr_text_distinct = crime_data.groupby(['UCR_General', 'Text_General_Code']).size()\n",
    "print(ucr_text_distinct)"
   ]
  },
  {
   "cell_type": "code",
   "execution_count": 19,
   "metadata": {},
   "outputs": [
    {
     "name": "stdout",
     "output_type": "stream",
     "text": [
      "Do all elements in columns match expected pattern?\n",
      "Dispatch_Date_Time:  True\n",
      "Dispatch_Date:  True\n",
      "Dispatch_Time:  True\n",
      "Hour:  True\n",
      "Month:  True\n"
     ]
    }
   ],
   "source": [
    "import warnings\n",
    "warnings.filterwarnings(\"ignore\", 'This pattern has match groups')\n",
    "\n",
    "# Check dates and times for consistent formatting\n",
    "def does_column_match_pattern(data_frame, column_name, pattern):\n",
    "    ''' Returns true if every value of a data frame column matches a pattern\n",
    "        data_frame = the pandas data frame to be checked\n",
    "        column_name = name of column to be checked\n",
    "        pattern = regular expression to be matched\n",
    "    '''\n",
    "    data = data_frame[column_name]\n",
    "    return data.str.contains(pattern).all()\n",
    "\n",
    "# Patterns copied from http://regexlib.com/DisplayPatterns.aspx?cattabindex=4&categoryId=5&AspxAutoDetectCookieSupport=1\n",
    "date_time_re = '20\\d{2}-((0[1-9])|(1[0-2]))-((0[1-9])|([1-2][0-9])|(3[0-1]))(\\s)(([0-1][0-9])|(2[0-3])):([0-5][0-9]):([0-5][0-9])'\n",
    "date_re = '20\\d{2}-((0[1-9])|(1[0-2]))-((0[1-9])|([1-2][0-9])|(3[0-1]))'\n",
    "time_re = '^(([0-1]?[0-9])|([2][0-3])):([0-5]?[0-9])(:([0-5]?[0-9]))?$'\n",
    "print(\"Do all elements in columns match expected pattern?\")\n",
    "print(\"Dispatch_Date_Time: \", does_column_match_pattern(crime_data, 'Dispatch_Date_Time', date_time_re))\n",
    "print(\"Dispatch_Date: \", does_column_match_pattern(crime_data, 'Dispatch_Date', date_re))\n",
    "print(\"Dispatch_Time: \", does_column_match_pattern(crime_data, 'Dispatch_Time', time_re))\n",
    "print(\"Hour: \", ((crime_data['Hour'] >= 0) & (crime_data['Hour'] <= 23)).all())\n",
    "print(\"Month: \", does_column_match_pattern(crime_data, 'Month', '[0-9]{4}-[0-9]{2}'))\n",
    "\n"
   ]
  },
  {
   "cell_type": "markdown",
   "metadata": {},
   "source": [
    "## Data Normalization\n",
    "\n",
    "The Philadelphia Crime Data set contains over 230K rows where each row represents one 911 call about a criminal incident in the city.  Each row includes information about the date, time, police district, street, and type of incident.  There are some 2016 and 2017 incidents in the data set but there are considerable gaps in the data for those two years.  There are no apparent gaps for 2006 through 2015 so I will include only those years in the investigation.\n",
    "\n",
    "When I looked at the distinct police districts represented in the dataset, I compared the district numbers to a map of the Philadelphia Police Districts.  There are four districts which no longer exist due to mergers.  The 4th district was merged into the 3rd district.  The 23rd was absored by the 22nd district.  The 77th was absorbed by the 12th district.  Meanwhile, the 92nd district is now part of the 14th district.  The same merger will occur in my data frame.\n",
    "\n",
    "There are less than 1000 entries which do not contain a crime classification and corresponding description.  Since I wish to measure the crime type, I will remove these rows from the data set.\n",
    "\n",
    "I checked all corresponding date and time columns to ensure that all values matched the expected pattern.  Below, I will check to make sure the information is consistent.  For example, if the **Dispatch_Date_Time** is '2015-11-23 19:20:00', then the **Dispatch_Date** is '2015-11-23', **Dispatch_Time** is '19:20:00', **Hour** is set to 19, and **Month** is set to '2015-11'. If there is inconsistent data in any row, the contents will be updated to match **Dispatch_Date_Time**.\n",
    "\n",
    "The **Location_Block** field is not consistent so there will be some cleaning needed to ensure the same pattern in the data.\n",
    "\n",
    "##### TODO: Investigate this further and look at ways to clean this field.\n",
    "##### TODO: More than one 911 call for same incident; what are criteria for two rows to denote same event?"
   ]
  },
  {
   "cell_type": "code",
   "execution_count": 21,
   "metadata": {},
   "outputs": [],
   "source": [
    "from datetime import datetime\n",
    "from datetime import timedelta\n",
    "\n",
    "# Assure consistent dates and times in each row\n",
    "def ensure_data_time_consistency(data_frame):\n",
    "    ''' Checks all date/time fields to be sure there is a match\n",
    "        Updates the date/time fields if not a match!\n",
    "        data_frame = data frame to investigate\n",
    "    '''\n",
    "    # Loop over each row\n",
    "    for tup in data_frame.itertuples():\n",
    "        # Record index\n",
    "        this_index = tup.Index\n",
    "        \n",
    "        # Get Dispatch_Date_Time\n",
    "        full_date_time = datetime.strptime(tup.Dispatch_Date_Time, \"%Y-%m-%d %H:%M:%S\")\n",
    "        \n",
    "        # Check Dispatch_Date\n",
    "        date_only = datetime.strptime(tup.Dispatch_Date, \"%Y-%m-%d\")\n",
    "        if (date_only.date() - full_date_time.date() > timedelta(seconds = 59)):\n",
    "            data_frame.loc[this_index, 'Dispatch_Date'] = str(full_date_time.year) + '-' + \\\n",
    "                                                          str(full_date_time.month) + '-' + \\\n",
    "                                                          str(full_date_time.day)\n",
    "        \n",
    "        # Check Dispatch Time\n",
    "        time_only = datetime.strptime(tup.Dispatch_Time, \"%H:%M:%S\")\n",
    "        if (time_only.time() != full_date_time.time()):\n",
    "            data_frame.loc[this_index, 'Dispatch_Time'] = str(full_date_time.hour) + '-' + \\\n",
    "                                                          str(full_date_time.minute) + '-' + \\\n",
    "                                                          str(full_date_time.second)\n",
    "        \n",
    "        # Check Hour\n",
    "        if (tup.Hour != full_date_time.hour):\n",
    "            data_frame.loc[this_index, 'Hour'] = full_date_time.hour\n",
    "        \n",
    "        # Check Month\n",
    "        month_only = datetime.strptime(tup.Month, \"%Y-%m\")\n",
    "        if (month_only.year != full_date_time.year or month_only.month != full_date_time.month):\n",
    "            data_frame.loc[this_index, 'Month'] = str(full_date_time.year) + '-' + str(full_date_time.month)\n",
    "    \n",
    "# Ensure the dates and times match in each row\n",
    "ensure_data_time_consistency(crime_data)"
   ]
  },
  {
   "cell_type": "code",
   "execution_count": null,
   "metadata": {
    "collapsed": true
   },
   "outputs": [],
   "source": []
  }
 ],
 "metadata": {
  "kernelspec": {
   "display_name": "Python 3",
   "language": "python",
   "name": "python3"
  },
  "language_info": {
   "codemirror_mode": {
    "name": "ipython",
    "version": 3
   },
   "file_extension": ".py",
   "mimetype": "text/x-python",
   "name": "python",
   "nbconvert_exporter": "python",
   "pygments_lexer": "ipython3",
   "version": "3.6.1"
  }
 },
 "nbformat": 4,
 "nbformat_minor": 1
}
